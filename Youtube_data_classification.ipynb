{
  "nbformat": 4,
  "nbformat_minor": 0,
  "metadata": {
    "colab": {
      "name": "Youtube data classification.ipynb",
      "version": "0.3.2",
      "provenance": [],
      "collapsed_sections": []
    },
    "kernelspec": {
      "name": "python3",
      "display_name": "Python 3"
    },
    "accelerator": "GPU"
  },
  "cells": [
    {
      "metadata": {
        "id": "zBpbatOmtu-e",
        "colab_type": "text"
      },
      "cell_type": "markdown",
      "source": [
        "<font color=red>**`I am using Google colab, since I'm using ubuntu 14.04 LTS which doesn't have tensorflow support and thus, I cannot use keras with it`**</font>\n"
      ]
    },
    {
      "metadata": {
        "id": "eoeVe2P0squ8",
        "colab_type": "text"
      },
      "cell_type": "markdown",
      "source": [
        "## Mounting google drive and changing directory"
      ]
    },
    {
      "metadata": {
        "id": "SaUnFALks6tR",
        "colab_type": "code",
        "outputId": "ca350985-1737-4d22-a1cf-04a058859121",
        "colab": {
          "base_uri": "https://localhost:8080/",
          "height": 34
        }
      },
      "cell_type": "code",
      "source": [
        "!pwd"
      ],
      "execution_count": 1,
      "outputs": [
        {
          "output_type": "stream",
          "text": [
            "/content\n"
          ],
          "name": "stdout"
        }
      ]
    },
    {
      "metadata": {
        "id": "UH_9jJmLs91q",
        "colab_type": "code",
        "outputId": "b4011ac6-fac1-42a3-dc24-0fa25bc88fac",
        "colab": {
          "base_uri": "https://localhost:8080/",
          "height": 34
        }
      },
      "cell_type": "code",
      "source": [
        "import os\n",
        "os.getcwd()\n",
        "os.listdir()"
      ],
      "execution_count": 2,
      "outputs": [
        {
          "output_type": "execute_result",
          "data": {
            "text/plain": [
              "['.config', 'adc.json', 'drive', 'sample_data']"
            ]
          },
          "metadata": {
            "tags": []
          },
          "execution_count": 2
        }
      ]
    },
    {
      "metadata": {
        "id": "N7aTEKxCtjbv",
        "colab_type": "code",
        "outputId": "54c50109-b12a-4251-96fa-c01260254e8a",
        "colab": {
          "base_uri": "https://localhost:8080/",
          "height": 54
        }
      },
      "cell_type": "code",
      "source": [
        "\"\"\"!apt-get install -y -qq software-properties-common python-software-properties module-init-tools\n",
        "!add-apt-repository -y ppa:alessandro-strada/ppa 2>&1 > /dev/null\n",
        "!apt-get update -qq 2>&1 > /dev/null\n",
        "!apt-get -y install -qq google-drive-ocamlfuse fuse\n",
        "from google.colab import auth\n",
        "auth.authenticate_user()\n",
        "from oauth2client.client import GoogleCredentials\n",
        "creds = GoogleCredentials.get_application_default()\n",
        "import getpass\n",
        "!google-drive-ocamlfuse -headless -id={creds.client_id} -secret={creds.client_secret} < /dev/null 2>&1 | grep URL\n",
        "vcode = getpass.getpass()\n",
        "!echo {vcode} | google-drive-ocamlfuse -headless -id={creds.client_id} -secret={creds.client_secret}\n",
        "\n",
        "!mkdir -p drive\n",
        "!google-drive-ocamlfuse drive\"\"\""
      ],
      "execution_count": 3,
      "outputs": [
        {
          "output_type": "execute_result",
          "data": {
            "text/plain": [
              "'!apt-get install -y -qq software-properties-common python-software-properties module-init-tools\\n!add-apt-repository -y ppa:alessandro-strada/ppa 2>&1 > /dev/null\\n!apt-get update -qq 2>&1 > /dev/null\\n!apt-get -y install -qq google-drive-ocamlfuse fuse\\nfrom google.colab import auth\\nauth.authenticate_user()\\nfrom oauth2client.client import GoogleCredentials\\ncreds = GoogleCredentials.get_application_default()\\nimport getpass\\n!google-drive-ocamlfuse -headless -id={creds.client_id} -secret={creds.client_secret} < /dev/null 2>&1 | grep URL\\nvcode = getpass.getpass()\\n!echo {vcode} | google-drive-ocamlfuse -headless -id={creds.client_id} -secret={creds.client_secret}\\n\\n!mkdir -p drive\\n!google-drive-ocamlfuse drive'"
            ]
          },
          "metadata": {
            "tags": []
          },
          "execution_count": 3
        }
      ]
    },
    {
      "metadata": {
        "id": "1jmcoDhcujf7",
        "colab_type": "code",
        "outputId": "34353180-fdf0-4600-a1d4-5ef954922c5f",
        "colab": {
          "base_uri": "https://localhost:8080/",
          "height": 71
        }
      },
      "cell_type": "code",
      "source": [
        "os.listdir()\n",
        "os.chdir('/content/drive/tensorflow')\n",
        "print(os.getcwd())\n",
        "print(os.listdir())"
      ],
      "execution_count": 4,
      "outputs": [
        {
          "output_type": "stream",
          "text": [
            "/content/drive/tensorflow\n",
            "['fer2013-images.zip', 'fer2013.ipynb', 'logreg_coefficents.ipynb', 'Keras', 'fer2013', 'Youtube data classification.ipynb', 'Copy of basic-regression.ipynb', 'Copy of basic_classification.ipynb', 'Copy of basic-text-classification.ipynb', 'tensorflow_basics.ipynb', 'anova_fitting.ipynb', 'youtube_scraped.csv', 'images_fer2013']\n"
          ],
          "name": "stdout"
        }
      ]
    },
    {
      "metadata": {
        "id": "WJCIk4ZfvNXo",
        "colab_type": "text"
      },
      "cell_type": "markdown",
      "source": [
        "## Data Preparation"
      ]
    },
    {
      "metadata": {
        "id": "Fl5yIvN5sKCE",
        "colab_type": "code",
        "outputId": "ca66fcb9-7835-4832-af8b-edff3ae95476",
        "colab": {
          "base_uri": "https://localhost:8080/",
          "height": 204
        }
      },
      "cell_type": "code",
      "source": [
        "import numpy as np\n",
        "import pandas as pd\n",
        "\n",
        "df = pd.read_csv('./youtube_scraped.csv')\n",
        "\n",
        "df.head()"
      ],
      "execution_count": 5,
      "outputs": [
        {
          "output_type": "execute_result",
          "data": {
            "text/html": [
              "<div>\n",
              "<style scoped>\n",
              "    .dataframe tbody tr th:only-of-type {\n",
              "        vertical-align: middle;\n",
              "    }\n",
              "\n",
              "    .dataframe tbody tr th {\n",
              "        vertical-align: top;\n",
              "    }\n",
              "\n",
              "    .dataframe thead th {\n",
              "        text-align: right;\n",
              "    }\n",
              "</style>\n",
              "<table border=\"1\" class=\"dataframe\">\n",
              "  <thead>\n",
              "    <tr style=\"text-align: right;\">\n",
              "      <th></th>\n",
              "      <th>Unnamed: 0</th>\n",
              "      <th>Video id</th>\n",
              "      <th>Title</th>\n",
              "      <th>Description</th>\n",
              "      <th>Category</th>\n",
              "    </tr>\n",
              "  </thead>\n",
              "  <tbody>\n",
              "    <tr>\n",
              "      <th>0</th>\n",
              "      <td>0</td>\n",
              "      <td>e2NQE41J5eM</td>\n",
              "      <td>How do I travel so much ! How do I earn money!!</td>\n",
              "      <td>SUBSCRIBE - https://goo.gl/dEtSMJ ('MountainTr...</td>\n",
              "      <td>Travel and Blogs</td>\n",
              "    </tr>\n",
              "    <tr>\n",
              "      <th>1</th>\n",
              "      <td>1</td>\n",
              "      <td>i9E_Blai8vk</td>\n",
              "      <td>TRAVEL VLOG ∙ Welcome to Bali | PRISCILLA LEE</td>\n",
              "      <td>I had the chance to fly out to Bali with my wh...</td>\n",
              "      <td>Travel and Blogs</td>\n",
              "    </tr>\n",
              "    <tr>\n",
              "      <th>2</th>\n",
              "      <td>2</td>\n",
              "      <td>7ByoBJYXU0k</td>\n",
              "      <td>5 Steps to Becoming a Travel Blogger</td>\n",
              "      <td>Travel blogger, Nikki Vargas, of The Pin the M...</td>\n",
              "      <td>Travel and Blogs</td>\n",
              "    </tr>\n",
              "    <tr>\n",
              "      <th>3</th>\n",
              "      <td>3</td>\n",
              "      <td>EthqIhPtd2I</td>\n",
              "      <td>TRAVEL VLOG: SANTORINI, GREECE</td>\n",
              "      <td>Thank you so much for watching! I hope you fou...</td>\n",
              "      <td>Travel and Blogs</td>\n",
              "    </tr>\n",
              "    <tr>\n",
              "      <th>4</th>\n",
              "      <td>4</td>\n",
              "      <td>ehmsJLZlCZ0</td>\n",
              "      <td>Ep 1| Travelling through North East India | Of...</td>\n",
              "      <td>The journey to Arunachal, North East India beg...</td>\n",
              "      <td>Travel and Blogs</td>\n",
              "    </tr>\n",
              "  </tbody>\n",
              "</table>\n",
              "</div>"
            ],
            "text/plain": [
              "   Unnamed: 0     Video id                                              Title  \\\n",
              "0           0  e2NQE41J5eM    How do I travel so much ! How do I earn money!!   \n",
              "1           1  i9E_Blai8vk      TRAVEL VLOG ∙ Welcome to Bali | PRISCILLA LEE   \n",
              "2           2  7ByoBJYXU0k               5 Steps to Becoming a Travel Blogger   \n",
              "3           3  EthqIhPtd2I                     TRAVEL VLOG: SANTORINI, GREECE   \n",
              "4           4  ehmsJLZlCZ0  Ep 1| Travelling through North East India | Of...   \n",
              "\n",
              "                                         Description          Category  \n",
              "0  SUBSCRIBE - https://goo.gl/dEtSMJ ('MountainTr...  Travel and Blogs  \n",
              "1  I had the chance to fly out to Bali with my wh...  Travel and Blogs  \n",
              "2  Travel blogger, Nikki Vargas, of The Pin the M...  Travel and Blogs  \n",
              "3  Thank you so much for watching! I hope you fou...  Travel and Blogs  \n",
              "4  The journey to Arunachal, North East India beg...  Travel and Blogs  "
            ]
          },
          "metadata": {
            "tags": []
          },
          "execution_count": 5
        }
      ]
    },
    {
      "metadata": {
        "id": "ILUn8qN9st1c",
        "colab_type": "code",
        "outputId": "632dcb4d-9a32-440b-d5bc-0f0dd932e69e",
        "colab": {
          "base_uri": "https://localhost:8080/",
          "height": 51
        }
      },
      "cell_type": "code",
      "source": [
        "print(df['Category'].unique())\n",
        "df.dropna(inplace=True)"
      ],
      "execution_count": 6,
      "outputs": [
        {
          "output_type": "stream",
          "text": [
            "['Travel and Blogs' 'Science and Technology' 'Food' 'Manufacturing'\n",
            " 'History' 'Art and Music']\n"
          ],
          "name": "stdout"
        }
      ]
    },
    {
      "metadata": {
        "id": "hfK9YG8QvZiQ",
        "colab_type": "text"
      },
      "cell_type": "markdown",
      "source": [
        "### Label Encoding of the target label Category"
      ]
    },
    {
      "metadata": {
        "id": "zsPZqTppvTwo",
        "colab_type": "code",
        "outputId": "32f9fab3-f00e-41fc-e74f-6541057f822c",
        "colab": {
          "base_uri": "https://localhost:8080/",
          "height": 204
        }
      },
      "cell_type": "code",
      "source": [
        "from sklearn import preprocessing\n",
        "\n",
        "le = preprocessing.LabelEncoder()\n",
        "df['targets'] = le.fit_transform(df['Category'])\n",
        "df.head()\n",
        "\n",
        "# targets has been created"
      ],
      "execution_count": 7,
      "outputs": [
        {
          "output_type": "execute_result",
          "data": {
            "text/html": [
              "<div>\n",
              "<style scoped>\n",
              "    .dataframe tbody tr th:only-of-type {\n",
              "        vertical-align: middle;\n",
              "    }\n",
              "\n",
              "    .dataframe tbody tr th {\n",
              "        vertical-align: top;\n",
              "    }\n",
              "\n",
              "    .dataframe thead th {\n",
              "        text-align: right;\n",
              "    }\n",
              "</style>\n",
              "<table border=\"1\" class=\"dataframe\">\n",
              "  <thead>\n",
              "    <tr style=\"text-align: right;\">\n",
              "      <th></th>\n",
              "      <th>Unnamed: 0</th>\n",
              "      <th>Video id</th>\n",
              "      <th>Title</th>\n",
              "      <th>Description</th>\n",
              "      <th>Category</th>\n",
              "      <th>targets</th>\n",
              "    </tr>\n",
              "  </thead>\n",
              "  <tbody>\n",
              "    <tr>\n",
              "      <th>0</th>\n",
              "      <td>0</td>\n",
              "      <td>e2NQE41J5eM</td>\n",
              "      <td>How do I travel so much ! How do I earn money!!</td>\n",
              "      <td>SUBSCRIBE - https://goo.gl/dEtSMJ ('MountainTr...</td>\n",
              "      <td>Travel and Blogs</td>\n",
              "      <td>5</td>\n",
              "    </tr>\n",
              "    <tr>\n",
              "      <th>1</th>\n",
              "      <td>1</td>\n",
              "      <td>i9E_Blai8vk</td>\n",
              "      <td>TRAVEL VLOG ∙ Welcome to Bali | PRISCILLA LEE</td>\n",
              "      <td>I had the chance to fly out to Bali with my wh...</td>\n",
              "      <td>Travel and Blogs</td>\n",
              "      <td>5</td>\n",
              "    </tr>\n",
              "    <tr>\n",
              "      <th>2</th>\n",
              "      <td>2</td>\n",
              "      <td>7ByoBJYXU0k</td>\n",
              "      <td>5 Steps to Becoming a Travel Blogger</td>\n",
              "      <td>Travel blogger, Nikki Vargas, of The Pin the M...</td>\n",
              "      <td>Travel and Blogs</td>\n",
              "      <td>5</td>\n",
              "    </tr>\n",
              "    <tr>\n",
              "      <th>3</th>\n",
              "      <td>3</td>\n",
              "      <td>EthqIhPtd2I</td>\n",
              "      <td>TRAVEL VLOG: SANTORINI, GREECE</td>\n",
              "      <td>Thank you so much for watching! I hope you fou...</td>\n",
              "      <td>Travel and Blogs</td>\n",
              "      <td>5</td>\n",
              "    </tr>\n",
              "    <tr>\n",
              "      <th>4</th>\n",
              "      <td>4</td>\n",
              "      <td>ehmsJLZlCZ0</td>\n",
              "      <td>Ep 1| Travelling through North East India | Of...</td>\n",
              "      <td>The journey to Arunachal, North East India beg...</td>\n",
              "      <td>Travel and Blogs</td>\n",
              "      <td>5</td>\n",
              "    </tr>\n",
              "  </tbody>\n",
              "</table>\n",
              "</div>"
            ],
            "text/plain": [
              "   Unnamed: 0     Video id                                              Title  \\\n",
              "0           0  e2NQE41J5eM    How do I travel so much ! How do I earn money!!   \n",
              "1           1  i9E_Blai8vk      TRAVEL VLOG ∙ Welcome to Bali | PRISCILLA LEE   \n",
              "2           2  7ByoBJYXU0k               5 Steps to Becoming a Travel Blogger   \n",
              "3           3  EthqIhPtd2I                     TRAVEL VLOG: SANTORINI, GREECE   \n",
              "4           4  ehmsJLZlCZ0  Ep 1| Travelling through North East India | Of...   \n",
              "\n",
              "                                         Description          Category  \\\n",
              "0  SUBSCRIBE - https://goo.gl/dEtSMJ ('MountainTr...  Travel and Blogs   \n",
              "1  I had the chance to fly out to Bali with my wh...  Travel and Blogs   \n",
              "2  Travel blogger, Nikki Vargas, of The Pin the M...  Travel and Blogs   \n",
              "3  Thank you so much for watching! I hope you fou...  Travel and Blogs   \n",
              "4  The journey to Arunachal, North East India beg...  Travel and Blogs   \n",
              "\n",
              "   targets  \n",
              "0        5  \n",
              "1        5  \n",
              "2        5  \n",
              "3        5  \n",
              "4        5  "
            ]
          },
          "metadata": {
            "tags": []
          },
          "execution_count": 7
        }
      ]
    },
    {
      "metadata": {
        "id": "8gqA1acAvc0I",
        "colab_type": "code",
        "outputId": "cb640d07-ab79-4f81-aec8-316c956fbf8e",
        "colab": {
          "base_uri": "https://localhost:8080/",
          "height": 119
        }
      },
      "cell_type": "code",
      "source": [
        "list(le.classes_) # Thus, travel and blogs are given value of 5"
      ],
      "execution_count": 8,
      "outputs": [
        {
          "output_type": "execute_result",
          "data": {
            "text/plain": [
              "['Art and Music',\n",
              " 'Food',\n",
              " 'History',\n",
              " 'Manufacturing',\n",
              " 'Science and Technology',\n",
              " 'Travel and Blogs']"
            ]
          },
          "metadata": {
            "tags": []
          },
          "execution_count": 8
        }
      ]
    },
    {
      "metadata": {
        "id": "rG4-6jtQvkHE",
        "colab_type": "code",
        "outputId": "64819789-c2a1-45fe-83c3-895f0cc92ae0",
        "colab": {
          "base_uri": "https://localhost:8080/",
          "height": 34
        }
      },
      "cell_type": "code",
      "source": [
        "le.transform(['Travel and Blogs', 'Food'])"
      ],
      "execution_count": 9,
      "outputs": [
        {
          "output_type": "execute_result",
          "data": {
            "text/plain": [
              "array([5, 1])"
            ]
          },
          "metadata": {
            "tags": []
          },
          "execution_count": 9
        }
      ]
    },
    {
      "metadata": {
        "id": "2xqf-FFlvu4c",
        "colab_type": "text"
      },
      "cell_type": "markdown",
      "source": [
        "### Train Test split of the data"
      ]
    },
    {
      "metadata": {
        "id": "P8Gwz7JFvsM4",
        "colab_type": "code",
        "outputId": "0669de9a-3103-4ebb-c016-489a438ba56b",
        "colab": {
          "base_uri": "https://localhost:8080/",
          "height": 34
        }
      },
      "cell_type": "code",
      "source": [
        "# all my categories have almost equal number of instances/samples\n",
        "\n",
        "np.bincount(df['targets'])"
      ],
      "execution_count": 10,
      "outputs": [
        {
          "output_type": "execute_result",
          "data": {
            "text/plain": [
              "array([1864, 2000, 2000, 1922, 1887, 1997])"
            ]
          },
          "metadata": {
            "tags": []
          },
          "execution_count": 10
        }
      ]
    },
    {
      "metadata": {
        "id": "e6EKfhgJvw-2",
        "colab_type": "code",
        "colab": {}
      },
      "cell_type": "code",
      "source": [
        "from sklearn.model_selection import train_test_split\n",
        "\n",
        "# Split data into training and test sets\n",
        "X_train, X_test, y_train, y_test = train_test_split(df['Description'],\n",
        "                                                   df['targets'],\n",
        "                                                   random_state=0)"
      ],
      "execution_count": 0,
      "outputs": []
    },
    {
      "metadata": {
        "id": "SYOnUuQdv2bs",
        "colab_type": "code",
        "outputId": "0a48f659-3ff4-4abc-8b96-038bf096b012",
        "colab": {
          "base_uri": "https://localhost:8080/",
          "height": 139
        }
      },
      "cell_type": "code",
      "source": [
        "print('X_train first entry:\\n\\n', X_train.iloc[0])\n",
        "print('\\n\\nX_train shape: ', X_train.shape)"
      ],
      "execution_count": 12,
      "outputs": [
        {
          "output_type": "stream",
          "text": [
            "X_train first entry:\n",
            "\n",
            " Famous Marvel Cinematic Universe Information Leaks (Movie Spoilers) SUBSCRIBE NOW to CBR! Click here: https://goo.gl/wMuSDD In the age of the internet, ...\n",
            "\n",
            "\n",
            "X_train shape:  (8752,)\n"
          ],
          "name": "stdout"
        }
      ]
    },
    {
      "metadata": {
        "id": "EAMbpGcxv_s6",
        "colab_type": "text"
      },
      "cell_type": "markdown",
      "source": [
        "### To one hot encoding of targets"
      ]
    },
    {
      "metadata": {
        "id": "Z4Vg3BAkv5DK",
        "colab_type": "code",
        "colab": {}
      },
      "cell_type": "code",
      "source": [
        "def to_one_hot(labels, dimension=6):\n",
        "    results = np.zeros((len(labels), dimension))\n",
        "    for i, label in enumerate(labels):\n",
        "        results[i, label] = 1\n",
        "        return results\n",
        "    \n",
        "one_hot_train_labels = to_one_hot(y_train)\n",
        "one_hot_test_labels = to_one_hot(y_test)"
      ],
      "execution_count": 0,
      "outputs": []
    },
    {
      "metadata": {
        "id": "oE_mM0oOwEoo",
        "colab_type": "code",
        "outputId": "ace0db1f-f207-4845-bca2-754c037ec247",
        "colab": {
          "base_uri": "https://localhost:8080/",
          "height": 136
        }
      },
      "cell_type": "code",
      "source": [
        "one_hot_train_labels"
      ],
      "execution_count": 14,
      "outputs": [
        {
          "output_type": "execute_result",
          "data": {
            "text/plain": [
              "array([[0., 0., 1., 0., 0., 0.],\n",
              "       [0., 0., 0., 0., 0., 0.],\n",
              "       [0., 0., 0., 0., 0., 0.],\n",
              "       ...,\n",
              "       [0., 0., 0., 0., 0., 0.],\n",
              "       [0., 0., 0., 0., 0., 0.],\n",
              "       [0., 0., 0., 0., 0., 0.]])"
            ]
          },
          "metadata": {
            "tags": []
          },
          "execution_count": 14
        }
      ]
    },
    {
      "metadata": {
        "id": "XYhuIXlrwMEK",
        "colab_type": "text"
      },
      "cell_type": "markdown",
      "source": [
        "## CountVectorizer"
      ]
    },
    {
      "metadata": {
        "id": "d2yUkU1qwINI",
        "colab_type": "code",
        "colab": {}
      },
      "cell_type": "code",
      "source": [
        "from sklearn.feature_extraction.text import CountVectorizer\n",
        "\n",
        "# Fit the CountVectorizer to the training data\n",
        "vect = CountVectorizer().fit(X_train)"
      ],
      "execution_count": 0,
      "outputs": []
    },
    {
      "metadata": {
        "id": "u2yVqRvXwOsD",
        "colab_type": "code",
        "outputId": "08784930-5422-4c60-e5eb-8c5cf2bb3f7e",
        "colab": {
          "base_uri": "https://localhost:8080/",
          "height": 255
        }
      },
      "cell_type": "code",
      "source": [
        "vect.get_feature_names()[::200] #Feature names"
      ],
      "execution_count": 16,
      "outputs": [
        {
          "output_type": "execute_result",
          "data": {
            "text/plain": [
              "['00',\n",
              " 'appointed',\n",
              " 'buzybeez',\n",
              " 'culture',\n",
              " 'england',\n",
              " 'gibt',\n",
              " 'inside',\n",
              " 'mains',\n",
              " 'nostra',\n",
              " 'prepper',\n",
              " 'sayajigunj',\n",
              " 'stressed',\n",
              " 'types',\n",
              " 'yoga']"
            ]
          },
          "metadata": {
            "tags": []
          },
          "execution_count": 16
        }
      ]
    },
    {
      "metadata": {
        "id": "VqH0pzBlwRGA",
        "colab_type": "code",
        "outputId": "bd8cc9eb-e9f5-4d4f-e7d0-609f21bb23d8",
        "colab": {
          "base_uri": "https://localhost:8080/",
          "height": 34
        }
      },
      "cell_type": "code",
      "source": [
        "len(vect.get_feature_names())"
      ],
      "execution_count": 17,
      "outputs": [
        {
          "output_type": "execute_result",
          "data": {
            "text/plain": [
              "2688"
            ]
          },
          "metadata": {
            "tags": []
          },
          "execution_count": 17
        }
      ]
    },
    {
      "metadata": {
        "id": "u4UscZw8wVsX",
        "colab_type": "code",
        "outputId": "a2cbf3c0-4234-45f5-8cb0-8d2afe0edde3",
        "colab": {
          "base_uri": "https://localhost:8080/",
          "height": 51
        }
      },
      "cell_type": "code",
      "source": [
        "# transform the documents in the training data to a document-term matrix\n",
        "X_train_vectorized = vect.transform(X_train)\n",
        "\n",
        "X_train_vectorized"
      ],
      "execution_count": 18,
      "outputs": [
        {
          "output_type": "execute_result",
          "data": {
            "text/plain": [
              "<8752x2688 sparse matrix of type '<class 'numpy.int64'>'\n",
              "\twith 174865 stored elements in Compressed Sparse Row format>"
            ]
          },
          "metadata": {
            "tags": []
          },
          "execution_count": 18
        }
      ]
    },
    {
      "metadata": {
        "id": "xiNJY6CjNCHG",
        "colab_type": "code",
        "outputId": "a9e2db72-674e-487f-8e5a-ac49040808e8",
        "colab": {
          "base_uri": "https://localhost:8080/",
          "height": 34
        }
      },
      "cell_type": "code",
      "source": [
        "X_train_vectorized.shape"
      ],
      "execution_count": 19,
      "outputs": [
        {
          "output_type": "execute_result",
          "data": {
            "text/plain": [
              "(8752, 2688)"
            ]
          },
          "metadata": {
            "tags": []
          },
          "execution_count": 19
        }
      ]
    },
    {
      "metadata": {
        "id": "L_GUvnNSw6xv",
        "colab_type": "text"
      },
      "cell_type": "markdown",
      "source": [
        "## Support Vector Machines (SVM)"
      ]
    },
    {
      "metadata": {
        "id": "2mg2g426Mur1",
        "colab_type": "code",
        "outputId": "3cf5573b-faed-4a81-f6bb-cb94bccf75cd",
        "colab": {
          "base_uri": "https://localhost:8080/",
          "height": 105
        }
      },
      "cell_type": "code",
      "source": [
        "from sklearn.svm import SVC\n",
        "from sklearn.model_selection import GridSearchCV\n",
        "\n",
        "clf = SVC()\n",
        "grid_values = {'gamma': [0.001, 0.01, 0.05, 0.1, 1, 10, 100]}\n",
        "\n",
        "# default metric to optimize over grid parameters: accuracy\n",
        "grid_clf_acc = GridSearchCV(clf, param_grid = grid_values)\n",
        "grid_clf_acc.fit(X_train_vectorized, y_train) # This best parameter values are\n",
        "# for countvectorizer and not for n-grams or tfidf\n",
        " \n",
        "\n",
        "print('Grid best parameter (max. accuracy): ', grid_clf_acc.best_params_)\n",
        "print('Grid best score (accuracy): ', grid_clf_acc.best_score_)\n"
      ],
      "execution_count": 20,
      "outputs": [
        {
          "output_type": "stream",
          "text": [
            "/usr/local/lib/python3.6/dist-packages/sklearn/model_selection/_split.py:2053: FutureWarning: You should specify a value for 'cv' instead of relying on the default value. The default value will change from 3 to 5 in version 0.22.\n",
            "  warnings.warn(CV_WARNING, FutureWarning)\n"
          ],
          "name": "stderr"
        },
        {
          "output_type": "stream",
          "text": [
            "Grid best parameter (max. accuracy):  {'gamma': 0.05}\n",
            "Grid best score (accuracy):  0.9993144424131627\n"
          ],
          "name": "stdout"
        }
      ]
    },
    {
      "metadata": {
        "id": "tWTFsqSHwrXb",
        "colab_type": "code",
        "outputId": "92f57f0d-0fd7-4cca-8df3-8d87e6f992a8",
        "colab": {
          "base_uri": "https://localhost:8080/",
          "height": 51
        }
      },
      "cell_type": "code",
      "source": [
        "model = SVC(gamma = 0.05)\n",
        "model.fit(X_train_vectorized, y_train)\n",
        "\n",
        "print('Training Accuracy:' , model.score(X_train_vectorized, y_train))\n",
        "print('Test Accuracy {}'.format(model.score(vect.transform(X_test), y_test)))\n",
        "\n",
        "#Both training and test accuracy are high, so model seems to be good.\n"
      ],
      "execution_count": 21,
      "outputs": [
        {
          "output_type": "stream",
          "text": [
            "Training Accuracy: 1.0\n",
            "Test Accuracy 0.9996572995202193\n"
          ],
          "name": "stdout"
        }
      ]
    },
    {
      "metadata": {
        "id": "mGuClUGDyF_0",
        "colab_type": "text"
      },
      "cell_type": "markdown",
      "source": [
        "## Tfidf - term frequency inverse weighting"
      ]
    },
    {
      "metadata": {
        "id": "aCcSNuwZxJhZ",
        "colab_type": "code",
        "outputId": "c3ef69e3-94fa-4dd6-e639-83924d7b0dbd",
        "colab": {
          "base_uri": "https://localhost:8080/",
          "height": 34
        }
      },
      "cell_type": "code",
      "source": [
        "from sklearn.feature_extraction.text import TfidfVectorizer\n",
        "\n",
        "# Fit the TfidfVectorizer to the training data specifiying a minimum document frequency of 5\n",
        "vect = TfidfVectorizer(min_df=5).fit(X_train)\n",
        "len(vect.get_feature_names())"
      ],
      "execution_count": 22,
      "outputs": [
        {
          "output_type": "execute_result",
          "data": {
            "text/plain": [
              "2369"
            ]
          },
          "metadata": {
            "tags": []
          },
          "execution_count": 22
        }
      ]
    },
    {
      "metadata": {
        "id": "9iYAd73lx1bz",
        "colab_type": "code",
        "outputId": "603e933a-e66d-406b-f907-5ea030e77ae7",
        "colab": {
          "base_uri": "https://localhost:8080/",
          "height": 51
        }
      },
      "cell_type": "code",
      "source": [
        "X_train_vectorized = vect.transform(X_train)\n",
        "\n",
        "model = SVC(C= 10, gamma='auto')\n",
        "model.fit(X_train_vectorized, y_train)\n",
        "\n",
        "print('Training Accuracy:' , model.score(X_train_vectorized, y_train))\n",
        "print('Test Accuracy {}'.format(model.score(vect.transform(X_test), y_test)))\n",
        "\n",
        "# Accuracy decreases way low from above, so tfidf performs poorly."
      ],
      "execution_count": 23,
      "outputs": [
        {
          "output_type": "stream",
          "text": [
            "Training Accuracy: 0.7142367458866545\n",
            "Test Accuracy 0.6997943797121315\n"
          ],
          "name": "stdout"
        }
      ]
    },
    {
      "metadata": {
        "id": "nz-Vu5T5yoDZ",
        "colab_type": "text"
      },
      "cell_type": "markdown",
      "source": [
        "### Smallest and largest tfidf"
      ]
    },
    {
      "metadata": {
        "id": "5_fuN_BCyVZc",
        "colab_type": "code",
        "outputId": "3a131f90-577a-4b8a-96e8-f9428ee5d568",
        "colab": {
          "base_uri": "https://localhost:8080/",
          "height": 136
        }
      },
      "cell_type": "code",
      "source": [
        "feature_names = np.array(vect.get_feature_names())\n",
        "\n",
        "sorted_tfidf_index = X_train_vectorized.max(0).toarray()[0].argsort()\n",
        "\n",
        "print('Smallest tfidf:\\n{}\\n'.format(feature_names[sorted_tfidf_index[:10]]))\n",
        "print('Largest tfidf: \\n{}'.format(feature_names[sorted_tfidf_index[:-11:-1]]))"
      ],
      "execution_count": 24,
      "outputs": [
        {
          "output_type": "stream",
          "text": [
            "Smallest tfidf:\n",
            "['awesome' 'shops' 'restaurants' 'cooks' 'uncle' 'cute' 'kids' 'pink'\n",
            " 'gave' 'just']\n",
            "\n",
            "Largest tfidf: \n",
            "['science' 'prague' 'group' 'village' 'against' 'cheese' 'steel' 'channel'\n",
            " 'lead' 'production']\n"
          ],
          "name": "stdout"
        }
      ]
    },
    {
      "metadata": {
        "id": "qqi3jT2ky3Ys",
        "colab_type": "text"
      },
      "cell_type": "markdown",
      "source": [
        "## n-grams"
      ]
    },
    {
      "metadata": {
        "id": "apmBPIf1yz5y",
        "colab_type": "code",
        "outputId": "6bc41bff-53ab-4f74-e628-9653cb88ac52",
        "colab": {
          "base_uri": "https://localhost:8080/",
          "height": 34
        }
      },
      "cell_type": "code",
      "source": [
        "# Fit the CountVectorizer to the training data specifiying a minimum \n",
        "# document frequency of 5 and extracting 1-grams and 2-grams\n",
        "vect = CountVectorizer(min_df=5, ngram_range=(1,2)).fit(X_train)\n",
        "\n",
        "X_train_vectorized = vect.transform(X_train)\n",
        "\n",
        "len(vect.get_feature_names())"
      ],
      "execution_count": 25,
      "outputs": [
        {
          "output_type": "execute_result",
          "data": {
            "text/plain": [
              "7618"
            ]
          },
          "metadata": {
            "tags": []
          },
          "execution_count": 25
        }
      ]
    },
    {
      "metadata": {
        "id": "HdeLQpERWuxX",
        "colab_type": "code",
        "outputId": "5da3f979-2fe9-4571-f114-2bf99cc7aa42",
        "colab": {
          "base_uri": "https://localhost:8080/",
          "height": 105
        }
      },
      "cell_type": "code",
      "source": [
        "from sklearn.svm import SVC\n",
        "from sklearn.model_selection import GridSearchCV\n",
        "\n",
        "clf = SVC()\n",
        "grid_values = {'gamma': [0.001, 0.01, 0.05, 0.1, 1, 10, 100]}\n",
        "\n",
        "# default metric to optimize over grid parameters: accuracy\n",
        "grid_clf_acc = GridSearchCV(clf, param_grid = grid_values)\n",
        "grid_clf_acc.fit(X_train_vectorized, y_train) # For n-grams\n",
        " \n",
        "\n",
        "print('Grid best parameter (max. accuracy): ', grid_clf_acc.best_params_)\n",
        "print('Grid best score (accuracy): ', grid_clf_acc.best_score_)"
      ],
      "execution_count": 26,
      "outputs": [
        {
          "output_type": "stream",
          "text": [
            "/usr/local/lib/python3.6/dist-packages/sklearn/model_selection/_split.py:2053: FutureWarning: You should specify a value for 'cv' instead of relying on the default value. The default value will change from 3 to 5 in version 0.22.\n",
            "  warnings.warn(CV_WARNING, FutureWarning)\n"
          ],
          "name": "stderr"
        },
        {
          "output_type": "stream",
          "text": [
            "Grid best parameter (max. accuracy):  {'gamma': 0.05}\n",
            "Grid best score (accuracy):  0.9990859232175503\n"
          ],
          "name": "stdout"
        }
      ]
    },
    {
      "metadata": {
        "id": "fA44ujFszBxk",
        "colab_type": "code",
        "outputId": "34f71796-056e-46a5-86e7-9e82d1dafd57",
        "colab": {
          "base_uri": "https://localhost:8080/",
          "height": 51
        }
      },
      "cell_type": "code",
      "source": [
        "X_train_vectorized = vect.transform(X_train)\n",
        "\n",
        "model = SVC(gamma=0.05)\n",
        "model.fit(X_train_vectorized, y_train)\n",
        "\n",
        "print('Training Accuracy:' , model.score(X_train_vectorized, y_train))\n",
        "print('Test Accuracy {}'.format(model.score(vect.transform(X_test), y_test)))\n"
      ],
      "execution_count": 27,
      "outputs": [
        {
          "output_type": "stream",
          "text": [
            "Training Accuracy: 1.0\n",
            "Test Accuracy 0.9996572995202193\n"
          ],
          "name": "stdout"
        }
      ]
    },
    {
      "metadata": {
        "id": "H53Byew0zQRY",
        "colab_type": "text"
      },
      "cell_type": "markdown",
      "source": [
        "## Precision, Recall, F1_Score"
      ]
    },
    {
      "metadata": {
        "id": "LeQg-Qe4zHvt",
        "colab_type": "code",
        "outputId": "816f6ce7-2288-42e8-f004-053d72ca1a67",
        "colab": {
          "base_uri": "https://localhost:8080/",
          "height": 119
        }
      },
      "cell_type": "code",
      "source": [
        "from sklearn.metrics import precision_recall_fscore_support\n",
        "\n",
        "predictions = model.predict(vect.transform(X_test))\n",
        "precision, recall, f_score, support = precision_recall_fscore_support(y_test, predictions )\n",
        "precision_recall_fscore_support(y_test, predictions )\n",
        "#Precision, Recall, F-score and Support for each class"
      ],
      "execution_count": 28,
      "outputs": [
        {
          "output_type": "execute_result",
          "data": {
            "text/plain": [
              "(array([1.        , 1.        , 1.        , 1.        , 0.99785408,\n",
              "        1.        ]),\n",
              " array([1.   , 1.   , 0.998, 1.   , 1.   , 1.   ]),\n",
              " array([1.        , 1.        , 0.998999  , 1.        , 0.99892589,\n",
              "        1.        ]),\n",
              " array([463, 525, 500, 497, 465, 468]))"
            ]
          },
          "metadata": {
            "tags": []
          },
          "execution_count": 28
        }
      ]
    },
    {
      "metadata": {
        "id": "KhUGuls4zNed",
        "colab_type": "code",
        "outputId": "24b839f7-d741-42a5-a34d-46c20fe238ee",
        "colab": {
          "base_uri": "https://localhost:8080/",
          "height": 235
        }
      },
      "cell_type": "code",
      "source": [
        "df1 = pd.DataFrame([le.classes_, precision, recall, f_score]).T\n",
        "df1.rename(columns={ 0: 'Category', 1:'precision', 2:'recall', 3: 'f_score'}, inplace = True)\n",
        "df1"
      ],
      "execution_count": 29,
      "outputs": [
        {
          "output_type": "execute_result",
          "data": {
            "text/html": [
              "<div>\n",
              "<style scoped>\n",
              "    .dataframe tbody tr th:only-of-type {\n",
              "        vertical-align: middle;\n",
              "    }\n",
              "\n",
              "    .dataframe tbody tr th {\n",
              "        vertical-align: top;\n",
              "    }\n",
              "\n",
              "    .dataframe thead th {\n",
              "        text-align: right;\n",
              "    }\n",
              "</style>\n",
              "<table border=\"1\" class=\"dataframe\">\n",
              "  <thead>\n",
              "    <tr style=\"text-align: right;\">\n",
              "      <th></th>\n",
              "      <th>Category</th>\n",
              "      <th>precision</th>\n",
              "      <th>recall</th>\n",
              "      <th>f_score</th>\n",
              "    </tr>\n",
              "  </thead>\n",
              "  <tbody>\n",
              "    <tr>\n",
              "      <th>0</th>\n",
              "      <td>Art and Music</td>\n",
              "      <td>1</td>\n",
              "      <td>1</td>\n",
              "      <td>1</td>\n",
              "    </tr>\n",
              "    <tr>\n",
              "      <th>1</th>\n",
              "      <td>Food</td>\n",
              "      <td>1</td>\n",
              "      <td>1</td>\n",
              "      <td>1</td>\n",
              "    </tr>\n",
              "    <tr>\n",
              "      <th>2</th>\n",
              "      <td>History</td>\n",
              "      <td>1</td>\n",
              "      <td>0.998</td>\n",
              "      <td>0.998999</td>\n",
              "    </tr>\n",
              "    <tr>\n",
              "      <th>3</th>\n",
              "      <td>Manufacturing</td>\n",
              "      <td>1</td>\n",
              "      <td>1</td>\n",
              "      <td>1</td>\n",
              "    </tr>\n",
              "    <tr>\n",
              "      <th>4</th>\n",
              "      <td>Science and Technology</td>\n",
              "      <td>0.997854</td>\n",
              "      <td>1</td>\n",
              "      <td>0.998926</td>\n",
              "    </tr>\n",
              "    <tr>\n",
              "      <th>5</th>\n",
              "      <td>Travel and Blogs</td>\n",
              "      <td>1</td>\n",
              "      <td>1</td>\n",
              "      <td>1</td>\n",
              "    </tr>\n",
              "  </tbody>\n",
              "</table>\n",
              "</div>"
            ],
            "text/plain": [
              "                 Category precision recall   f_score\n",
              "0           Art and Music         1      1         1\n",
              "1                    Food         1      1         1\n",
              "2                 History         1  0.998  0.998999\n",
              "3           Manufacturing         1      1         1\n",
              "4  Science and Technology  0.997854      1  0.998926\n",
              "5        Travel and Blogs         1      1         1"
            ]
          },
          "metadata": {
            "tags": []
          },
          "execution_count": 29
        }
      ]
    },
    {
      "metadata": {
        "id": "T-MIHIPZzygg",
        "colab_type": "text"
      },
      "cell_type": "markdown",
      "source": [
        "### XGBOOST instead of bagging models or shallow neural networks"
      ]
    },
    {
      "metadata": {
        "id": "Dm7FxNxnzUCX",
        "colab_type": "code",
        "colab": {
          "base_uri": "https://localhost:8080/",
          "height": 34
        },
        "outputId": "9e9a8dbd-4911-4925-ace0-6dc71a4bafb6"
      },
      "cell_type": "code",
      "source": [
        "from keras.preprocessing.text import Tokenizer\n",
        "from keras.preprocessing.sequence import pad_sequences\n",
        "from keras.models import Sequential\n",
        "from keras.layers import Dense, Flatten, LSTM, Conv1D, MaxPooling1D, Dropout, Activation\n",
        "from keras.layers.embeddings import Embedding"
      ],
      "execution_count": 30,
      "outputs": [
        {
          "output_type": "stream",
          "text": [
            "Using TensorFlow backend.\n"
          ],
          "name": "stderr"
        }
      ]
    },
    {
      "metadata": {
        "id": "1HBWLvX-zvzq",
        "colab_type": "code",
        "outputId": "dd81d978-69fa-4cf2-f573-dca89ba87733",
        "colab": {
          "base_uri": "https://localhost:8080/",
          "height": 51
        }
      },
      "cell_type": "code",
      "source": [
        "from xgboost import XGBClassifier\n",
        "\n",
        "model = XGBClassifier(max_depth=2)\n",
        "model.fit(X_train_vectorized, y_train)\n",
        "\n",
        "#Overfitting at the moment, have to do parameter tuning.\n",
        "\n",
        "\n",
        "\n",
        "print('Training Accuracy:' , model.score(X_train_vectorized, y_train))\n",
        "print('Test Accuracy {}'.format(model.score(vect.transform(X_test), y_test)))"
      ],
      "execution_count": 31,
      "outputs": [
        {
          "output_type": "stream",
          "text": [
            "Training Accuracy: 0.9969149908592322\n",
            "Test Accuracy 0.9955448937628513\n"
          ],
          "name": "stdout"
        }
      ]
    },
    {
      "metadata": {
        "id": "vXCsC5Qc09ZK",
        "colab_type": "code",
        "outputId": "5e81571a-c354-4160-a50e-ad4bbae1cf25",
        "colab": {
          "base_uri": "https://localhost:8080/",
          "height": 136
        }
      },
      "cell_type": "code",
      "source": [
        "from sklearn.metrics import precision_recall_fscore_support\n",
        "\n",
        "predictions = model.predict(vect.transform(X_test))\n",
        "precision, recall, f_score, support = precision_recall_fscore_support(y_test, predictions )\n",
        "precision_recall_fscore_support(y_test, predictions )\n",
        "#Precision, Recall, F-score and Support for each class"
      ],
      "execution_count": 32,
      "outputs": [
        {
          "output_type": "execute_result",
          "data": {
            "text/plain": [
              "(array([0.98301486, 0.9980916 , 0.99201597, 1.        , 1.        ,\n",
              "        1.        ]),\n",
              " array([1.        , 0.99619048, 0.994     , 0.99798793, 0.98494624,\n",
              "        1.        ]),\n",
              " array([0.99143469, 0.99714013, 0.99300699, 0.99899295, 0.99241603,\n",
              "        1.        ]),\n",
              " array([463, 525, 500, 497, 465, 468]))"
            ]
          },
          "metadata": {
            "tags": []
          },
          "execution_count": 32
        }
      ]
    },
    {
      "metadata": {
        "id": "fP2ZF_X_4VNd",
        "colab_type": "code",
        "outputId": "11dcafbb-618b-44a2-9572-13100695c039",
        "colab": {
          "base_uri": "https://localhost:8080/",
          "height": 235
        }
      },
      "cell_type": "code",
      "source": [
        "df1 = pd.DataFrame([le.classes_, precision, recall, f_score]).T\n",
        "df1.rename(columns={ 0: 'Category', 1:'precision', 2:'recall', 3: 'f_score'}, inplace = True)\n",
        "df1"
      ],
      "execution_count": 33,
      "outputs": [
        {
          "output_type": "execute_result",
          "data": {
            "text/html": [
              "<div>\n",
              "<style scoped>\n",
              "    .dataframe tbody tr th:only-of-type {\n",
              "        vertical-align: middle;\n",
              "    }\n",
              "\n",
              "    .dataframe tbody tr th {\n",
              "        vertical-align: top;\n",
              "    }\n",
              "\n",
              "    .dataframe thead th {\n",
              "        text-align: right;\n",
              "    }\n",
              "</style>\n",
              "<table border=\"1\" class=\"dataframe\">\n",
              "  <thead>\n",
              "    <tr style=\"text-align: right;\">\n",
              "      <th></th>\n",
              "      <th>Category</th>\n",
              "      <th>precision</th>\n",
              "      <th>recall</th>\n",
              "      <th>f_score</th>\n",
              "    </tr>\n",
              "  </thead>\n",
              "  <tbody>\n",
              "    <tr>\n",
              "      <th>0</th>\n",
              "      <td>Art and Music</td>\n",
              "      <td>0.983015</td>\n",
              "      <td>1</td>\n",
              "      <td>0.991435</td>\n",
              "    </tr>\n",
              "    <tr>\n",
              "      <th>1</th>\n",
              "      <td>Food</td>\n",
              "      <td>0.998092</td>\n",
              "      <td>0.99619</td>\n",
              "      <td>0.99714</td>\n",
              "    </tr>\n",
              "    <tr>\n",
              "      <th>2</th>\n",
              "      <td>History</td>\n",
              "      <td>0.992016</td>\n",
              "      <td>0.994</td>\n",
              "      <td>0.993007</td>\n",
              "    </tr>\n",
              "    <tr>\n",
              "      <th>3</th>\n",
              "      <td>Manufacturing</td>\n",
              "      <td>1</td>\n",
              "      <td>0.997988</td>\n",
              "      <td>0.998993</td>\n",
              "    </tr>\n",
              "    <tr>\n",
              "      <th>4</th>\n",
              "      <td>Science and Technology</td>\n",
              "      <td>1</td>\n",
              "      <td>0.984946</td>\n",
              "      <td>0.992416</td>\n",
              "    </tr>\n",
              "    <tr>\n",
              "      <th>5</th>\n",
              "      <td>Travel and Blogs</td>\n",
              "      <td>1</td>\n",
              "      <td>1</td>\n",
              "      <td>1</td>\n",
              "    </tr>\n",
              "  </tbody>\n",
              "</table>\n",
              "</div>"
            ],
            "text/plain": [
              "                 Category precision    recall   f_score\n",
              "0           Art and Music  0.983015         1  0.991435\n",
              "1                    Food  0.998092   0.99619   0.99714\n",
              "2                 History  0.992016     0.994  0.993007\n",
              "3           Manufacturing         1  0.997988  0.998993\n",
              "4  Science and Technology         1  0.984946  0.992416\n",
              "5        Travel and Blogs         1         1         1"
            ]
          },
          "metadata": {
            "tags": []
          },
          "execution_count": 33
        }
      ]
    },
    {
      "metadata": {
        "id": "_8G9_kKOJfei",
        "colab_type": "text"
      },
      "cell_type": "markdown",
      "source": [
        "### Using LSTM - Have some issues with the embedding layer will fix."
      ]
    },
    {
      "metadata": {
        "id": "SR49Fy88Z43p",
        "colab_type": "code",
        "colab": {}
      },
      "cell_type": "code",
      "source": [
        "vocabulary_size = 20000\n",
        "tokenizer = Tokenizer(num_words= vocabulary_size)\n",
        "tokenizer.fit_on_texts(df['Description'])\n",
        "\n",
        "sequences = tokenizer.texts_to_sequences(df['Description'])\n",
        "data = pad_sequences(sequences, maxlen=50)"
      ],
      "execution_count": 0,
      "outputs": []
    },
    {
      "metadata": {
        "id": "vnHsskA-Jrpf",
        "colab_type": "code",
        "colab": {
          "base_uri": "https://localhost:8080/",
          "height": 139
        },
        "outputId": "251a39cf-6d71-4bf0-97f0-743a4b22e9cc"
      },
      "cell_type": "code",
      "source": [
        "model_lstm = Sequential()\n",
        "model_lstm.add(Embedding(100, 100, input_length=50))\n",
        "model_lstm.add(LSTM(100, dropout=0.2, recurrent_dropout=0.2))\n",
        "model_lstm.add(Dense(6, activation='softmax'))\n",
        "model_lstm.compile(loss='categorical_crossentropy', optimizer='adam', metrics=['accuracy'])"
      ],
      "execution_count": 35,
      "outputs": [
        {
          "output_type": "stream",
          "text": [
            "WARNING:tensorflow:From /usr/local/lib/python3.6/dist-packages/tensorflow/python/framework/op_def_library.py:263: colocate_with (from tensorflow.python.framework.ops) is deprecated and will be removed in a future version.\n",
            "Instructions for updating:\n",
            "Colocations handled automatically by placer.\n",
            "WARNING:tensorflow:From /usr/local/lib/python3.6/dist-packages/keras/backend/tensorflow_backend.py:3445: calling dropout (from tensorflow.python.ops.nn_ops) with keep_prob is deprecated and will be removed in a future version.\n",
            "Instructions for updating:\n",
            "Please use `rate` instead of `keep_prob`. Rate should be set to `rate = 1 - keep_prob`.\n"
          ],
          "name": "stdout"
        }
      ]
    },
    {
      "metadata": {
        "id": "BFEiYOTuJs5k",
        "colab_type": "code",
        "outputId": "d48627b0-3209-4e24-8e83-1de7a1a1d19a",
        "colab": {
          "base_uri": "https://localhost:8080/",
          "height": 462
        }
      },
      "cell_type": "code",
      "source": [
        "model_lstm.fit(data, np.array(to_one_hot(df['targets'])), validation_split=0.4, epochs=10)"
      ],
      "execution_count": 36,
      "outputs": [
        {
          "output_type": "stream",
          "text": [
            "WARNING:tensorflow:From /usr/local/lib/python3.6/dist-packages/tensorflow/python/ops/math_ops.py:3066: to_int32 (from tensorflow.python.ops.math_ops) is deprecated and will be removed in a future version.\n",
            "Instructions for updating:\n",
            "Use tf.cast instead.\n",
            "Train on 7002 samples, validate on 4668 samples\n",
            "Epoch 1/10\n",
            "7002/7002 [==============================] - 26s 4ms/step - loss: 2.5454e-04 - acc: 0.1148 - val_loss: 0.0000e+00 - val_acc: 0.0000e+00\n",
            "Epoch 2/10\n",
            "7002/7002 [==============================] - 22s 3ms/step - loss: 2.1275e-04 - acc: 1.4282e-04 - val_loss: 0.0000e+00 - val_acc: 0.0000e+00\n",
            "Epoch 3/10\n",
            "7002/7002 [==============================] - 22s 3ms/step - loss: 1.5631e-05 - acc: 1.4282e-04 - val_loss: 0.0000e+00 - val_acc: 0.0000e+00\n",
            "Epoch 4/10\n",
            "7002/7002 [==============================] - 24s 3ms/step - loss: 9.6620e-09 - acc: 1.4282e-04 - val_loss: 0.0000e+00 - val_acc: 0.0000e+00\n",
            "Epoch 5/10\n",
            "7002/7002 [==============================] - 22s 3ms/step - loss: 1.5391e-08 - acc: 1.4282e-04 - val_loss: 0.0000e+00 - val_acc: 0.0000e+00\n",
            "Epoch 6/10\n",
            "7002/7002 [==============================] - 22s 3ms/step - loss: 1.0590e-08 - acc: 1.4282e-04 - val_loss: 0.0000e+00 - val_acc: 0.0000e+00\n",
            "Epoch 7/10\n",
            "7002/7002 [==============================] - 23s 3ms/step - loss: 8.3085e-09 - acc: 1.4282e-04 - val_loss: 0.0000e+00 - val_acc: 0.0000e+00\n",
            "Epoch 8/10\n",
            "7002/7002 [==============================] - 23s 3ms/step - loss: 1.3808e-08 - acc: 1.4282e-04 - val_loss: 0.0000e+00 - val_acc: 0.0000e+00\n",
            "Epoch 9/10\n",
            "7002/7002 [==============================] - 22s 3ms/step - loss: 3.8222e-09 - acc: 1.4282e-04 - val_loss: 0.0000e+00 - val_acc: 0.0000e+00\n",
            "Epoch 10/10\n",
            "7002/7002 [==============================] - 24s 3ms/step - loss: 6.3335e-09 - acc: 1.4282e-04 - val_loss: 0.0000e+00 - val_acc: 0.0000e+00\n"
          ],
          "name": "stdout"
        },
        {
          "output_type": "execute_result",
          "data": {
            "text/plain": [
              "<keras.callbacks.History at 0x7fdb44681a20>"
            ]
          },
          "metadata": {
            "tags": []
          },
          "execution_count": 36
        }
      ]
    },
    {
      "metadata": {
        "id": "F1JUxpnpdKR9",
        "colab_type": "text"
      },
      "cell_type": "markdown",
      "source": [
        "### Using CNNs with LSTM"
      ]
    },
    {
      "metadata": {
        "id": "NT5aOzKeYhVG",
        "colab_type": "code",
        "colab": {}
      },
      "cell_type": "code",
      "source": [
        "def create_conv_model():\n",
        "    model_conv = Sequential()\n",
        "    model_conv.add(Embedding(vocabulary_size, 100, input_length=50))\n",
        "    model_conv.add(Dropout(0.2))\n",
        "    model_conv.add(Conv1D(64, 5, activation='relu'))\n",
        "    model_conv.add(MaxPooling1D(pool_size=4))\n",
        "    model_conv.add(LSTM(100))\n",
        "    model_conv.add(Dense(6, activation='softmax'))\n",
        "    model_conv.compile(loss='categorical_crossentropy', optimizer='adam', metrics=['accuracy'])\n",
        "    return model_conv"
      ],
      "execution_count": 0,
      "outputs": []
    },
    {
      "metadata": {
        "id": "7ug8kkUFawzO",
        "colab_type": "code",
        "outputId": "f95d3a86-882b-4aeb-a552-43c6cbb31027",
        "colab": {
          "base_uri": "https://localhost:8080/",
          "height": 173
        }
      },
      "cell_type": "code",
      "source": [
        "model_conv = create_conv_model()\n",
        "model_conv.fit(data, np.array(to_one_hot(df['targets'])), validation_split=0.4, epochs = 3)"
      ],
      "execution_count": 38,
      "outputs": [
        {
          "output_type": "stream",
          "text": [
            "Train on 7002 samples, validate on 4668 samples\n",
            "Epoch 1/3\n",
            "7002/7002 [==============================] - 9s 1ms/step - loss: 2.5540e-04 - acc: 0.1098 - val_loss: 0.0000e+00 - val_acc: 0.0000e+00\n",
            "Epoch 2/3\n",
            "7002/7002 [==============================] - 7s 934us/step - loss: 1.9617e-04 - acc: 1.4282e-04 - val_loss: 0.0000e+00 - val_acc: 0.0000e+00\n",
            "Epoch 3/3\n",
            "7002/7002 [==============================] - 6s 852us/step - loss: 3.5068e-07 - acc: 1.4282e-04 - val_loss: 0.0000e+00 - val_acc: 0.0000e+00\n"
          ],
          "name": "stdout"
        },
        {
          "output_type": "execute_result",
          "data": {
            "text/plain": [
              "<keras.callbacks.History at 0x7fdb1245c2e8>"
            ]
          },
          "metadata": {
            "tags": []
          },
          "execution_count": 38
        }
      ]
    },
    {
      "metadata": {
        "id": "k9sbYidVch6Z",
        "colab_type": "code",
        "colab": {}
      },
      "cell_type": "code",
      "source": [
        ""
      ],
      "execution_count": 0,
      "outputs": []
    }
  ]
}